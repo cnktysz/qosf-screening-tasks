{
 "cells": [
  {
   "cell_type": "markdown",
   "metadata": {},
   "source": [
    "# Task1\n",
    "$$\\newcommand{\\ket}[1]{\\left|{#1}\\right\\rangle}$$\n",
    "Implement, on a quantum simulator of your choice, the following 4 qubits state $\\newcommand{\\ket}[1]{\\left|{#1}\\right\\rangle} \\ket{\\psi(\\theta)}$:\n",
    "\n",
    "<img src=\"../images/circuit_ansatz-1.jpg\" alt=\"\" style=\"height: 150px;\"/>\n",
    "\n",
    "Where the number of layers, denoted with L, has to be considered as a parameter. We call \"Layer\" the combination of 1 yellow + 1 green block, so, for example, U1 + U2 is a layer. The odd/even variational blocks are given by:\n",
    "\n",
    "<table><tr>\n",
    "<td> <img src=\"../images/even_block.jpg\" alt=\"Even Blocks\" style=\"height: 150px;\"/> <figcaption>Even blocks.</figcaption> </td> <td> <img src=\"../images/odd_block.jpg\" alt=\"\" style=\"height: 150px;\"/> <figcaption>Odd blocks.</figcaption> </td>\n",
    "</tr></table>\n",
    "The angles $\\theta_{i,n}$ are variational parameters, lying in the interval $(0, 2\\pi)$, initialized at random. Double qubit gates are CZ gates.\n",
    "\n",
    "Report with a plot, as a function of the number of layers, L, the minimum distance\n",
    "\n",
    "$$\\newcommand{\\ket}[1]{\\left|{#1}\\right\\rangle} \\varepsilon = min_\\theta \\parallel \\ket{\\psi(\\theta)} - \\ket{\\phi} \\parallel  $$\n",
    "\n",
    "Where $\\newcommand{\\ket}[1]{\\left|{#1}\\right\\rangle} \\ket{\\phi}$ is a randomly generated vector on 4 qubits and the norm $\\newcommand{\\ket}[1]{\\left|{#1}\\right\\rangle} \\parallel \\ket{v} \\parallel$, of a state $\\newcommand{\\ket}[1]{\\left|{#1}\\right\\rangle} \\ket{v}$, simply denotes the sum of the squares of the components of $\\newcommand{\\ket}[1]{\\left|{#1}\\right\\rangle} \\ket{v}$. The right set of parameters $\\theta_{i,n}$ can be found via any method of choice (e.g. grid-search or gradient descent)\n",
    "\n",
    "## Bonus question:\n",
    "Try using other gates for the parametrized gates and see what happens.\n"
   ]
  },
  {
   "cell_type": "markdown",
   "metadata": {},
   "source": [
    "# Solution\n",
    "Let's start by importing NumPy, Qiskit and other relevant libraries."
   ]
  },
  {
   "cell_type": "code",
   "execution_count": 1,
   "metadata": {},
   "outputs": [],
   "source": [
    "import numpy as np\n",
    "from qiskit import Aer, QuantumRegister, QuantumCircuit, execute\n",
    "from qiskit.quantum_info import random_statevector\n",
    "from scipy.optimize import minimize\n",
    "\n",
    "%matplotlib inline\n",
    "import matplotlib.pyplot as plt\n",
    "import matplotlib as mpl\n",
    "mpl.rcParams['figure.dpi']= 200\n",
    "\n",
    "import time"
   ]
  },
  {
   "cell_type": "markdown",
   "metadata": {},
   "source": [
    "Now, we can define the Parametrized Quantum Circuits. We construct a QNN class to build our model under a single object.\n",
    "The QNN class contains several functions that we need. Let's go over them quickly. (Read the comments in the code for more details).\n",
    "* `__init__()` is called when the QNN() is first called. It creates the random set of parameters, as well as the random Haar state. A fixed seed is chosen for the random state, such that results are consistent for each execution of the program.\n",
    "* `qc()` takes a set of parameters as input and applies the Quantum Circuit defined in the question.\n",
    "* `gate()` takes the gate name as a string and applies that gate to the specified qubit.\n",
    "* `cost_fn()` calculates the $\\varepsilon$ defined in the question w.r.t. a random Haar state.\n",
    "* `train()` uses the COBYLA optimizer to minimize the cost and find optimal parameters and returns the final $\\varepsilon$.\n",
    "\n"
   ]
  },
  {
   "cell_type": "code",
   "execution_count": 2,
   "metadata": {},
   "outputs": [],
   "source": [
    "class QNN():\n",
    "    ''' Constructs the Quantum Neural Network (QNN) object.\n",
    "    Args:\n",
    "    =====\n",
    "    n_layers: int\n",
    "        Number of layers, which the even and odd blocks are repeated.\n",
    "    steps: int\n",
    "        Number of optimization steps\n",
    "    lr: float\n",
    "        Learning rate\n",
    "    '''\n",
    "    def __init__(self,n_layers=1, gate_set=['rz','rx']):\n",
    "        '''Initializer function '''\n",
    "        self.n_layers = n_layers\n",
    "        self.gate_set = gate_set\n",
    "        self.n_qubits = 4\n",
    "        \n",
    "        # Initialize random parameters \n",
    "        self.params = np.random.RandomState().uniform(low=0.0,high=2*np.pi,size=(n_layers*8,))\n",
    "        # Obtain a Haar Random State from Qiskit, uses fixed seed so that results are consistent\n",
    "        self.random_state = random_statevector(16,seed=32).data\n",
    "    \n",
    "    def gate(self,circ,gate,param,qr):\n",
    "        '''Parametrized gate function.\n",
    "        Args:\n",
    "        =====\n",
    "        circ: QuantumCircuit \n",
    "            Quantum Circuit object from Qiskit\n",
    "        gate: str\n",
    "            Type of the Quantum gate\n",
    "        param: float\n",
    "            Parameter of the Quantum gate\n",
    "        qr: QuantumRegister\n",
    "            Quantum Register that we will apply the gate to\n",
    "        '''\n",
    "        if gate=='rz'  : circ.rz(param,qr)\n",
    "        elif gate=='ry': circ.ry(param,qr)\n",
    "        elif gate=='rx': circ.rx(param,qr)\n",
    "        else: raise ValueError('Instruction Not Defined.')\n",
    "        \n",
    "    def qc(self, params):\n",
    "        '''Defines the the Quantum Circuit.'''\n",
    "        # Setup the circuit\n",
    "        qr = QuantumRegister(self.n_qubits, 'qr')\n",
    "        circ = QuantumCircuit(qr)\n",
    "                \n",
    "        # Repeats the block n_layers times\n",
    "        for layer in range(self.n_layers):\n",
    "            # Even Block\n",
    "            for idx in range(self.n_qubits):\n",
    "                self.gate(circ,self.gate_set[0],params[layer*8+idx],qr[idx])\n",
    "            circ.cz(qr[0],qr[1])\n",
    "            circ.cz(qr[0],qr[2])\n",
    "            circ.cz(qr[0],qr[3])\n",
    "            circ.cz(qr[1],qr[2])\n",
    "            circ.cz(qr[1],qr[3])\n",
    "            circ.cz(qr[2],qr[3])\n",
    "            # Odd Block\n",
    "            for idx in range(4):\n",
    "                self.gate(circ,self.gate_set[1],params[layer*8+idx+self.n_qubits],qr[idx])\n",
    "\n",
    "        # Select the StatevectorSimulator from the Aer provider\n",
    "        simulator = Aer.get_backend('statevector_simulator')\n",
    "\n",
    "        # Execute\n",
    "        result = execute(circ, simulator).result()\n",
    "        return result.get_statevector(circ)\n",
    "    \n",
    "\n",
    "    def cost_fn(self, params):\n",
    "        '''Defines the cost function: distance between two states. \n",
    "        Args:\n",
    "        =====\n",
    "        params: float list\n",
    "            Parameters of the model.\n",
    "        Returns:\n",
    "        ========\n",
    "        float\n",
    "            Cost of the Paremetrized Quantum Circuit\n",
    "        '''\n",
    "        return np.linalg.norm(self.qc(params) - self.random_state, ord = 2)\n",
    "               \n",
    "    def train(self):\n",
    "        '''Trainer of the circuit.\n",
    "        \n",
    "        Returns:\n",
    "        =======\n",
    "        float\n",
    "            Final cost of the model\n",
    "        '''\n",
    "        return minimize(self.cost_fn, self.params, method='COBYLA').fun"
   ]
  },
  {
   "cell_type": "markdown",
   "metadata": {},
   "source": [
    "We are ready to define how many layers we want to test. Here, it is also good idea to run the same model several times and take an average, as Quantum Circuits sometimes do not train very well due to a bad initialization. Since we randomly initialize the circuits every time, we will run each model 3 times and use averaged results."
   ]
  },
  {
   "cell_type": "code",
   "execution_count": 3,
   "metadata": {},
   "outputs": [],
   "source": [
    "# Sets number of layers to be tested.\n",
    "n_layers = 20\n",
    "# A list of number of layers. \n",
    "layer_list = np.linspace(1,n_layers,n_layers,dtype=int)\n",
    "n_runs = 3\n",
    "# Arrays to store the costs for each model.\n",
    "costs = []\n",
    "errors = []"
   ]
  },
  {
   "cell_type": "markdown",
   "metadata": {},
   "source": [
    "Let's train the model up to 20 layers and log the $\\varepsilon$."
   ]
  },
  {
   "cell_type": "code",
   "execution_count": 4,
   "metadata": {},
   "outputs": [
    {
     "name": "stdout",
     "output_type": "stream",
     "text": [
      "Training completed for 1 layers. Final Cost: 1.052 +/- 0.029 in  0m 2s\n",
      "Training completed for 2 layers. Final Cost: 0.474 +/- 0.000 in  0m14s\n",
      "Training completed for 3 layers. Final Cost: 0.356 +/- 0.127 in  0m26s\n",
      "Training completed for 4 layers. Final Cost: 0.330 +/- 0.045 in  0m31s\n",
      "Training completed for 5 layers. Final Cost: 0.196 +/- 0.082 in  0m36s\n",
      "Training completed for 6 layers. Final Cost: 0.163 +/- 0.018 in  0m38s\n",
      "Training completed for 7 layers. Final Cost: 0.099 +/- 0.036 in  0m44s\n",
      "Training completed for 8 layers. Final Cost: 0.137 +/- 0.044 in  0m49s\n",
      "Training completed for 9 layers. Final Cost: 0.156 +/- 0.064 in  0m54s\n",
      "Training completed for 10 layers. Final Cost: 0.134 +/- 0.051 in  1m 0s\n",
      "Training completed for 11 layers. Final Cost: 0.103 +/- 0.038 in  1m 4s\n",
      "Training completed for 12 layers. Final Cost: 0.136 +/- 0.021 in  1m15s\n",
      "Training completed for 13 layers. Final Cost: 0.127 +/- 0.040 in  1m 8s\n",
      "Training completed for 14 layers. Final Cost: 0.118 +/- 0.043 in  1m14s\n",
      "Training completed for 15 layers. Final Cost: 0.145 +/- 0.051 in  1m19s\n",
      "Training completed for 16 layers. Final Cost: 0.123 +/- 0.020 in  1m26s\n",
      "Training completed for 17 layers. Final Cost: 0.204 +/- 0.086 in  1m48s\n",
      "Training completed for 18 layers. Final Cost: 0.107 +/- 0.042 in  2m 1s\n",
      "Training completed for 19 layers. Final Cost: 0.106 +/- 0.002 in  2m 5s\n",
      "Training completed for 20 layers. Final Cost: 0.148 +/- 0.024 in  2m11s\n"
     ]
    }
   ],
   "source": [
    "# Starts a loop where the model is independently trained up to n_layer layers.\n",
    "# all models are independently trained n_runs and the average of the loss curves are recorded.\n",
    "for idx, n_layer in enumerate(layer_list):\n",
    "    # start timer\n",
    "    t0 = time.time() \n",
    "    run_costs = np.zeros(n_runs)\n",
    "    # Train the model and append the costs to run_cost list.\n",
    "    for i in range(n_runs):\n",
    "        # Instantiate the QNN model with the given parameters.\n",
    "        model = QNN(n_layers=n_layer)\n",
    "        run_costs[i] = model.train()\n",
    "    costs.append(np.mean(run_costs))\n",
    "    errors.append(np.std(run_costs))\n",
    "    # end timer and record duration\n",
    "    duration = time.time() - t0 \n",
    "    # calculate the mean and std. for multiple runs\n",
    "    print('Training completed for {:d} layers. Final Cost: {:1.3f} +/- {:1.3f} in {:2.0f}m{:2.0f}s'.format(n_layer, costs[idx], errors[idx], duration//60, duration%60))"
   ]
  },
  {
   "cell_type": "markdown",
   "metadata": {},
   "source": [
    "Plot $\\varepsilon$ vs. $N_{layers}$"
   ]
  },
  {
   "cell_type": "code",
   "execution_count": null,
   "metadata": {},
   "outputs": [
    {
     "data": {
      "image/png": "[encoded data removed]",
      "text/plain": [
       "<Figure size 1000x400 with 1 Axes>"
      ]
     },
     "metadata": {
      "needs_background": "light"
     },
     "output_type": "display_data"
    }
   ],
   "source": [
    "# define plot area\n",
    "fig, ax = plt.subplots(1,figsize=(5, 2))\n",
    "# set xticks\n",
    "plt.xticks([i*(n_layers//5) for i in range(2+(n_layers//5))])\n",
    "# plot with error bars\n",
    "plt.errorbar(x=layer_list, y=costs, yerr=errors)\n",
    "# set labels\n",
    "ax.set_xlabel(r'$N_{layers}$')\n",
    "ax.set_ylabel(r'$\\varepsilon$')\n",
    "# show plot\n",
    "plt.show()"
   ]
  },
  {
   "cell_type": "markdown",
   "metadata": {},
   "source": [
    "Above plot shows us that, after some $N_{layers}$ the model stops improving. The main reason for this is that the generalizability of the Quantum Circuits saturates after some layers [1]. Also, it gets harder to train Quantum Circuits as the depth increases [2,3]. As a result, we obtain a convergence plateau.\n",
    "\n",
    "In this question, we try to show the effect of increasing the depth of the Quantum Circuits. Although, there are methods [3,4] to obtain better $\\varepsilon$, the aim is not to get the best possible result."
   ]
  },
  {
   "cell_type": "markdown",
   "metadata": {},
   "source": [
    "# Solution to Bonus Question\n",
    "The bonus question asks to vary the gates of the model. We define a set of gate combinations and test them using the setting $N_{layer}$ = 9. Here, we only use the $R_X$, $R_Y$ and $R_Z$ gates but this example can be extended with the use of other parametrized gates such as $U_1$, $U_2$, $U_3$, etc."
   ]
  },
  {
   "cell_type": "code",
   "execution_count": 6,
   "metadata": {},
   "outputs": [],
   "source": [
    "# Choose a layer\n",
    "n_layer = 9\n",
    "n_runs = 3\n",
    "# Creates a set of gates to run\n",
    "gate_list = [\n",
    "    ['rz','rz'],\n",
    "    ['rz','ry'],\n",
    "    ['rz','rx'],\n",
    "    ['ry','rz'],\n",
    "    ['ry','ry'],\n",
    "    ['ry','rx'],\n",
    "    ['rx','rz'],\n",
    "    ['rx','ry'],\n",
    "    ['rx','rx'],\n",
    "    ]\n",
    "n_gate_sets = len(gate_list)\n",
    "# Arrays to store the costs for each model.\n",
    "costs = []\n",
    "errors = []"
   ]
  },
  {
   "cell_type": "code",
   "execution_count": 7,
   "metadata": {},
   "outputs": [
    {
     "name": "stdout",
     "output_type": "stream",
     "text": [
      "Training completed for even gates: rz, odd gates: rz layers. Final Cost: 1.649 +/- 0.000 in  0m23s\n",
      "Training completed for even gates: rz, odd gates: ry layers. Final Cost: 0.128 +/- 0.052 in  0m58s\n",
      "Training completed for even gates: rz, odd gates: rx layers. Final Cost: 0.101 +/- 0.032 in  0m59s\n",
      "Training completed for even gates: ry, odd gates: rz layers. Final Cost: 0.127 +/- 0.041 in  0m57s\n",
      "Training completed for even gates: ry, odd gates: ry layers. Final Cost: 0.710 +/- 0.000 in  1m22s\n",
      "Training completed for even gates: ry, odd gates: rx layers. Final Cost: 0.153 +/- 0.062 in  1m22s\n",
      "Training completed for even gates: rx, odd gates: rz layers. Final Cost: 0.072 +/- 0.032 in  0m57s\n",
      "Training completed for even gates: rx, odd gates: ry layers. Final Cost: 0.218 +/- 0.062 in  1m24s\n",
      "Training completed for even gates: rx, odd gates: rx layers. Final Cost: 0.820 +/- 0.000 in  1m22s\n"
     ]
    }
   ],
   "source": [
    "# Training loop\n",
    "for idx, gates in enumerate(gate_list):\n",
    "    # start timer\n",
    "    t0 = time.time() \n",
    "    run_costs = np.zeros(n_runs)\n",
    "    for run in range(n_runs):\n",
    "        model = QNN(n_layers=n_layer,gate_set=gates)\n",
    "        run_costs[run] = model.train()\n",
    "        \n",
    "    costs.append(np.mean(run_costs))\n",
    "    errors.append(np.std(run_costs))\n",
    "    # end timer and record duration\n",
    "    duration = time.time() - t0 \n",
    "    # calculate the mean and std. for multiple runs\n",
    "    print('Training completed for even gates: {}, odd gates: {} layers. Final Cost: {:1.3f} +/- {:1.3f} in {:2.0f}m{:2.0f}s'.format(gates[0],gates[1], costs[idx], errors[idx], duration//60, duration%60))"
   ]
  },
  {
   "cell_type": "markdown",
   "metadata": {},
   "source": [
    "Plot the final $\\varepsilon$ of each model against the gate sets."
   ]
  },
  {
   "cell_type": "code",
   "execution_count": null,
   "metadata": {},
   "outputs": [
    {
     "data": {
      "image/png": "[encoded data removed]",
      "text/plain": [
       "<Figure size 1400x400 with 1 Axes>"
      ]
     },
     "metadata": {
      "needs_background": "light"
     },
     "output_type": "display_data"
    }
   ],
   "source": [
    "fig, ax = plt.subplots(1, figsize=(7, 2))\n",
    "x_ticks = ['{'+gate_list[i][0]+', '+gate_list[i][1]+'}' for i in range(n_gate_sets)]\n",
    "plt.xticks(range(n_gate_sets), x_ticks)\n",
    "plt.plot(range(n_gate_sets), costs, marker=\"d\", linestyle=\"None\")\n",
    "ax.set_ylabel(r'$\\varepsilon$')\n",
    "plt.show()"
   ]
  },
  {
   "cell_type": "markdown",
   "metadata": {},
   "source": [
    "This plot shows us that we get the best results when we have combinations of different gate types. The perfomance decreases significantly, when we have the same gate types for even and odd blocks. However, there is a much wore case, which is the case where there are only $R_Z$ gates. \n",
    "\n",
    "The reason for getting the worse $\\varepsilon$ in the only $R_Z$ case is that the qubits being initialized in the $\\newcommand{\\ket}[1]{\\left|{#1}\\right\\rangle} \\ket{z;0}$ state. When we use only the R_Z gate, we can't get out of the $\\newcommand{\\ket}[1]{\\left|{#1}\\right\\rangle} \\ket{0}$ state. \n",
    "\n",
    "This situation also extends to the cases when we only use $R_X$ or $R_Y$ gates. In these cases, the sytem can get out of the $\\newcommand{\\ket}[1]{\\left|{#1}\\right\\rangle} \\ket{0}$ state. However, since there is only 1 degree of freedom, the model can't use the full potential of the bloch sphere.\n",
    "\n",
    "The models with different gates performs the best as we can make us of complete bloch sphere. This result can also be inferred from linear algebra, where a general $U_3$ unitary transformation can be decomposed to a set of rotations in different axes."
   ]
  },
  {
   "cell_type": "markdown",
   "metadata": {},
   "source": [
    "## References\n",
    "\n",
    "[1] S. Sim, P. D. Johnson, and A. Aspuru‐Guzik, “Expressibility and Entangling Capability of Parameterized Quantum Circuits for Hybrid Quantum‐Classical Algorithms,” Adv. Quantum Technol., vol. 2, no. 12, p. 1900070, 2019, doi: 10.1002/qute.201900070. Available: https://arxiv.org/abs/1905.10876\n",
    "\n",
    "[2] J. R. McClean, S. Boixo, V. N. Smelyanskiy, R. Babbush, and H. Neven, “Barren plateaus in quantum neural network training landscapes,” Nat. Commun., vol. 9, no. 1, pp. 1–6, 2018, doi: 10.1038/s41467-018-07090-4. Available: https://arxiv.org/abs/1803.11173\n",
    "\n",
    "[3] E. Grant, L. Wossnig, M. Ostaszewski, and M. Benedetti, “An initialization strategy for addressing barren plateaus in parametrized quantum circuits,” Quantum, vol. 3, p. 214, 2019, doi: 10.22331/q-2019-12-09-214. Available: https://arxiv.org/abs/1903.05076 \n",
    "\n",
    "[4] A. Skolik, J. R. McClean, M. Mohseni, P. van der Smagt, and M. Leib, “Layerwise learning for quantum neural networks,” 2020, [Online]. Available: http://arxiv.org/abs/2006.14904."
   ]
  }
 ],
 "metadata": {
  "kernelspec": {
   "display_name": "Python 3",
   "language": "python",
   "name": "python3"
  },
  "language_info": {
   "codemirror_mode": {
    "name": "ipython",
    "version": 3
   },
   "file_extension": ".py",
   "mimetype": "text/x-python",
   "name": "python",
   "nbconvert_exporter": "python",
   "pygments_lexer": "ipython3",
   "version": "3.8.3"
  }
 },
 "nbformat": 4,
 "nbformat_minor": 4
}
